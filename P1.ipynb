{
 "cells": [
  {
   "cell_type": "code",
   "execution_count": 1,
   "id": "3dd4ecab",
   "metadata": {},
   "outputs": [],
   "source": [
    "from langchain import OpenAI"
   ]
  },
  {
   "cell_type": "code",
   "execution_count": 2,
   "id": "8c75d38c",
   "metadata": {},
   "outputs": [],
   "source": [
    "llm = OpenAI(temperature=0, openai_api_key=\"api_key\")"
   ]
  },
  {
   "cell_type": "code",
   "execution_count": 3,
   "id": "f8e0983b",
   "metadata": {},
   "outputs": [],
   "source": [
    "prompt = \"\"\"\n",
    "Please provide a summary of the following text\n",
    "\n",
    "TEXT:\n",
    "Philosophy (from Greek: φιλοσοφία, philosophia, 'love of wisdom') \\\n",
    "is the systematized study of general and fundamental questions, \\\n",
    "such as those about existence, reason, knowledge, values, mind, and language. \\\n",
    "Some sources claim the term was coined by Pythagoras (c. 570 – c. 495 BCE), \\\n",
    "although this theory is disputed by some. Philosophical methods include questioning, \\\n",
    "critical discussion, rational argument, and systematic presentation.\n",
    "\"\"\""
   ]
  },
  {
   "cell_type": "code",
   "execution_count": 4,
   "id": "789e2ed5",
   "metadata": {},
   "outputs": [
    {
     "name": "stdout",
     "output_type": "stream",
     "text": [
      "Our prompt has 121 tokens\n"
     ]
    }
   ],
   "source": [
    "num_tokens = llm.get_num_tokens(prompt)\n",
    "print (f\"Our prompt has {num_tokens} tokens\")"
   ]
  },
  {
   "cell_type": "code",
   "execution_count": 5,
   "id": "c59f8fcb",
   "metadata": {},
   "outputs": [
    {
     "name": "stdout",
     "output_type": "stream",
     "text": [
      "\n",
      "Philosophy is a systematized study of general and fundamental questions about existence, reason, knowledge, values, mind, and language. It is believed to have been coined by Pythagoras, and its methods include questioning, critical discussion, rational argument, and systematic presentation.\n"
     ]
    }
   ],
   "source": [
    "output = llm(prompt)\n",
    "print (output)"
   ]
  },
  {
   "cell_type": "code",
   "execution_count": 6,
   "id": "2b1c0173",
   "metadata": {},
   "outputs": [],
   "source": [
    "prompt = \"\"\"\n",
    "Please provide a summary of the following text.\n",
    "Please provide your output in a manner that a 5 year old would understand\n",
    "\n",
    "TEXT:\n",
    "Philosophy (from Greek: φιλοσοφία, philosophia, 'love of wisdom') \\\n",
    "is the systematized study of general and fundamental questions, \\\n",
    "such as those about existence, reason, knowledge, values, mind, and language. \\\n",
    "Some sources claim the term was coined by Pythagoras (c. 570 – c. 495 BCE), \\\n",
    "although this theory is disputed by some. Philosophical methods include questioning, \\\n",
    "critical discussion, rational argument, and systematic presentation.\n",
    "\"\"\""
   ]
  },
  {
   "cell_type": "code",
   "execution_count": 7,
   "id": "5dab2080",
   "metadata": {},
   "outputs": [
    {
     "name": "stdout",
     "output_type": "stream",
     "text": [
      "Our prompt has 137 tokens\n"
     ]
    }
   ],
   "source": [
    "num_tokens = llm.get_num_tokens(prompt)\n",
    "print (f\"Our prompt has {num_tokens} tokens\")"
   ]
  },
  {
   "cell_type": "code",
   "execution_count": 8,
   "id": "e916b13e",
   "metadata": {},
   "outputs": [
    {
     "name": "stdout",
     "output_type": "stream",
     "text": [
      "\n",
      "Philosophy is about asking questions and trying to figure out the answers. It is about thinking about things like existence, knowledge, and values. People have been doing this for a very long time, and it is still done today.\n"
     ]
    }
   ],
   "source": [
    "output = llm(prompt)\n",
    "print (output)"
   ]
  },
  {
   "cell_type": "code",
   "execution_count": 9,
   "id": "083ef80f",
   "metadata": {},
   "outputs": [],
   "source": [
    "from langchain import OpenAI\n",
    "from langchain.chains.summarize import load_summarize_chain\n",
    "from langchain.text_splitter import RecursiveCharacterTextSplitter"
   ]
  },
  {
   "cell_type": "code",
   "execution_count": 10,
   "id": "153b510f",
   "metadata": {},
   "outputs": [],
   "source": [
    "paul_graham_essay = 'case.txt'\n",
    "\n",
    "with open(paul_graham_essay, 'r') as file:\n",
    "    essay = file.read()"
   ]
  },
  {
   "cell_type": "code",
   "execution_count": 11,
   "id": "afd29bff",
   "metadata": {},
   "outputs": [
    {
     "data": {
      "text/plain": [
       "560"
      ]
     },
     "execution_count": 11,
     "metadata": {},
     "output_type": "execute_result"
    }
   ],
   "source": [
    "llm.get_num_tokens(essay)"
   ]
  },
  {
   "cell_type": "code",
   "execution_count": 12,
   "id": "db3db8c9",
   "metadata": {},
   "outputs": [],
   "source": [
    "text_splitter = RecursiveCharacterTextSplitter(separators=[\"\\n\\n\", \"\\n\"], chunk_size=10000, chunk_overlap=500)\n",
    "\n",
    "docs = text_splitter.create_documents([essay])"
   ]
  },
  {
   "cell_type": "code",
   "execution_count": 13,
   "id": "5777a44f",
   "metadata": {},
   "outputs": [
    {
     "name": "stdout",
     "output_type": "stream",
     "text": [
      "Now we have 1 documents and the first one has 560 tokens\n"
     ]
    }
   ],
   "source": [
    "num_docs = len(docs)\n",
    "\n",
    "num_tokens_first_doc = llm.get_num_tokens(docs[0].page_content)\n",
    "\n",
    "print (f\"Now we have {num_docs} documents and the first one has {num_tokens_first_doc} tokens\")"
   ]
  },
  {
   "cell_type": "code",
   "execution_count": 14,
   "id": "74ed448d",
   "metadata": {},
   "outputs": [],
   "source": [
    "summary_chain = load_summarize_chain(llm=llm, chain_type='map_reduce',\n",
    "#                                      verbose=True\n",
    "                                    )"
   ]
  },
  {
   "cell_type": "code",
   "execution_count": 15,
   "id": "7e9bea4f",
   "metadata": {},
   "outputs": [],
   "source": [
    "output = summary_chain.run(docs)"
   ]
  },
  {
   "cell_type": "code",
   "execution_count": 16,
   "id": "74a40950",
   "metadata": {},
   "outputs": [
    {
     "data": {
      "text/plain": [
       "' Patrizia was successful in her claim against the Town of Milton and the Region of Halton for negligence in failing to monitor the weather forecasts and ensure the roads were safe, but the defendants appealed the decision. After two years, the Supreme Court of Canada refused leave to appeal, ending the lengthy process for Patrizia.'"
      ]
     },
     "execution_count": 16,
     "metadata": {},
     "output_type": "execute_result"
    }
   ],
   "source": [
    "output"
   ]
  },
  {
   "cell_type": "code",
   "execution_count": 22,
   "id": "5c403751",
   "metadata": {
    "scrolled": true
   },
   "outputs": [],
   "source": [
    "from langchain import PromptTemplate\n",
    "\n",
    "\n",
    "map_prompt = \"\"\"\n",
    "Write a concise summary of the following:\n",
    "\"{text}\"\n",
    "CONCISE SUMMARY:\n",
    "\"\"\"\n",
    "map_prompt_template = PromptTemplate(template=map_prompt, input_variables=[\"text\"])"
   ]
  },
  {
   "cell_type": "code",
   "execution_count": 23,
   "id": "4bd96c83",
   "metadata": {},
   "outputs": [],
   "source": [
    "combine_prompt = \"\"\"\n",
    "Write a concise summary of the following text delimited by triple backquotes.\n",
    "Return your response in bullet points which covers the key points of the text.\n",
    "```{text}```\n",
    "BULLET POINT SUMMARY:\n",
    "\"\"\"\n",
    "combine_prompt_template = PromptTemplate(template=combine_prompt, input_variables=[\"text\"])"
   ]
  },
  {
   "cell_type": "code",
   "execution_count": 24,
   "id": "8ccff841",
   "metadata": {},
   "outputs": [],
   "source": [
    "summary_chain = load_summarize_chain(llm=llm,\n",
    "                                     chain_type='map_reduce',\n",
    "                                     map_prompt=map_prompt_template,\n",
    "                                     combine_prompt=combine_prompt_template,\n",
    "#                                      verbose=True\n",
    "                                    )"
   ]
  },
  {
   "cell_type": "code",
   "execution_count": 25,
   "id": "98443479",
   "metadata": {},
   "outputs": [],
   "source": [
    "output = summary_chain.run(docs)"
   ]
  },
  {
   "cell_type": "code",
   "execution_count": 26,
   "id": "f672b69b",
   "metadata": {},
   "outputs": [
    {
     "name": "stdout",
     "output_type": "stream",
     "text": [
      "- Patrizia was injured in a car accident due to snow-covered roads in Milton\n",
      "- She brought a claim against the Town of Milton and the Region of Halton for negligence\n",
      "- After a lengthy trial, Patrizia was successful in establishing her claim, but the defendants appealed the decision\n",
      "- A Factum was prepared on Patrizia's behalf and the Court of Appeal ruled in her favour\n",
      "- The defendants asked the Supreme Court of Canada for permission to appeal, but after two years, the Supreme Court of Canada refused leave to appeal, ending the lengthy process for Patrizia\n"
     ]
    }
   ],
   "source": [
    "print (output)"
   ]
  },
  {
   "cell_type": "code",
   "execution_count": null,
   "id": "17ecc0f9",
   "metadata": {},
   "outputs": [],
   "source": []
  },
  {
   "cell_type": "code",
   "execution_count": 30,
   "id": "1f9b31b1",
   "metadata": {},
   "outputs": [],
   "source": [
    "from langchain.document_loaders import PyPDFLoader\n",
    "\n",
    "loader = PyPDFLoader(\"K.pdf\")\n",
    "pages = loader.load()\n",
    "\n",
    "pages = pages[:]\n",
    "\n",
    "text = \"\"\n",
    "\n",
    "for page in pages:\n",
    "    text += page.page_content\n",
    "    \n",
    "text = text.replace('\\t', ' ')"
   ]
  },
  {
   "cell_type": "code",
   "execution_count": 31,
   "id": "82efd524",
   "metadata": {},
   "outputs": [
    {
     "name": "stdout",
     "output_type": "stream",
     "text": [
      "This book has 5708 tokens in it\n"
     ]
    }
   ],
   "source": [
    "num_tokens = llm.get_num_tokens(text)\n",
    "\n",
    "print (f\"This book has {num_tokens} tokens in it\")"
   ]
  },
  {
   "cell_type": "code",
   "execution_count": 32,
   "id": "893f895e",
   "metadata": {},
   "outputs": [],
   "source": [
    "from langchain.schema import Document\n",
    "from langchain.text_splitter import RecursiveCharacterTextSplitter\n",
    "from langchain.chat_models import ChatOpenAI\n",
    "from langchain.vectorstores import FAISS\n",
    "from langchain.embeddings import OpenAIEmbeddings\n",
    "from langchain.chains.summarize import load_summarize_chain\n",
    "import numpy as np\n",
    "from sklearn.cluster import KMeans"
   ]
  },
  {
   "cell_type": "code",
   "execution_count": 72,
   "id": "f36abc66",
   "metadata": {},
   "outputs": [],
   "source": [
    "text_splitter = RecursiveCharacterTextSplitter(separators=[\"\\n\\n\", \"\\n\", \"\\t\"], chunk_size=1000, chunk_overlap=150)\n",
    "\n",
    "docs = text_splitter.create_documents([text])"
   ]
  },
  {
   "cell_type": "code",
   "execution_count": 73,
   "id": "4a857365",
   "metadata": {},
   "outputs": [
    {
     "name": "stdout",
     "output_type": "stream",
     "text": [
      "Now our book is split up into 17 documents\n"
     ]
    }
   ],
   "source": [
    "num_documents = len(docs)\n",
    "\n",
    "print (f\"Now our book is split up into {num_documents} documents\")"
   ]
  },
  {
   "cell_type": "code",
   "execution_count": 74,
   "id": "d55d2a0d",
   "metadata": {},
   "outputs": [],
   "source": [
    "embeddings = OpenAIEmbeddings(openai_api_key=\"api_key\")\n",
    "\n",
    "vectors = embeddings.embed_documents([x.page_content for x in docs])"
   ]
  },
  {
   "cell_type": "code",
   "execution_count": 106,
   "id": "7703c3e5",
   "metadata": {},
   "outputs": [],
   "source": [
    "num_clusters = 8\n",
    "\n",
    "kmeans = KMeans(n_clusters=num_clusters, random_state=42).fit(vectors)"
   ]
  },
  {
   "cell_type": "code",
   "execution_count": 107,
   "id": "d0c11cec",
   "metadata": {},
   "outputs": [
    {
     "data": {
      "text/plain": [
       "array([1, 1, 2, 2, 5, 5, 0, 6, 1, 4, 4, 1, 1, 1, 7, 3, 3], dtype=int32)"
      ]
     },
     "execution_count": 107,
     "metadata": {},
     "output_type": "execute_result"
    }
   ],
   "source": [
    "kmeans.labels_"
   ]
  },
  {
   "cell_type": "code",
   "execution_count": 108,
   "id": "cb413ceb",
   "metadata": {},
   "outputs": [
    {
     "data": {
      "image/png": "[encoded data removed]",
      "text/plain": [
       "<Figure size 432x288 with 1 Axes>"
      ]
     },
     "metadata": {
      "needs_background": "light"
     },
     "output_type": "display_data"
    }
   ],
   "source": [
    "from sklearn.manifold import TSNE\n",
    "import matplotlib.pyplot as plt\n",
    "import warnings\n",
    "from warnings import simplefilter\n",
    "\n",
    "simplefilter(action='ignore', category=FutureWarning)\n",
    "\n",
    "tsne = TSNE(n_components=2, random_state=42)\n",
    "reduced_data_tsne = tsne.fit_transform(vectors)\n",
    "\n",
    "plt.scatter(reduced_data_tsne[:, 0], reduced_data_tsne[:, 1], c=kmeans.labels_)\n",
    "plt.xlabel('Dimension 1')\n",
    "plt.ylabel('Dimension 2')\n",
    "plt.title('Book Embeddings Clustered')\n",
    "plt.show()"
   ]
  },
  {
   "cell_type": "code",
   "execution_count": 109,
   "id": "7c0e64d0",
   "metadata": {},
   "outputs": [],
   "source": [
    "closest_indices = []\n",
    "\n",
    "for i in range(num_clusters):\n",
    "    \n",
    "    distances = np.linalg.norm(vectors - kmeans.cluster_centers_[i], axis=1)\n",
    "    \n",
    "    closest_index = np.argmin(distances)\n",
    "    \n",
    "    closest_indices.append(closest_index)"
   ]
  },
  {
   "cell_type": "code",
   "execution_count": 110,
   "id": "0baab0f4",
   "metadata": {},
   "outputs": [
    {
     "data": {
      "text/plain": [
       "[0, 2, 4, 6, 7, 9, 14, 15]"
      ]
     },
     "execution_count": 110,
     "metadata": {},
     "output_type": "execute_result"
    }
   ],
   "source": [
    "selected_indices = sorted(closest_indices)\n",
    "selected_indices"
   ]
  },
  {
   "cell_type": "code",
   "execution_count": 111,
   "id": "dfbf4382",
   "metadata": {},
   "outputs": [],
   "source": [
    "llm3 = ChatOpenAI(temperature=0,\n",
    "                 openai_api_key=\"api_key\",\n",
    "                 max_tokens=1000,\n",
    "                 model='gpt-3.5-turbo'\n",
    "                )"
   ]
  },
  {
   "cell_type": "code",
   "execution_count": 112,
   "id": "b8732b54",
   "metadata": {},
   "outputs": [],
   "source": [
    "map_prompt = \"\"\"\n",
    "You will be given a single passage of a book. This section will be enclosed in triple backticks (```)\n",
    "Your goal is to give a summary of this section so that a reader will have a full understanding of what happened.\n",
    "Your response should be at least three paragraphs and fully encompass what was said in the passage.\n",
    "\n",
    "```{text}```\n",
    "FULL SUMMARY:\n",
    "\"\"\"\n",
    "map_prompt_template = PromptTemplate(template=map_prompt, input_variables=[\"text\"])"
   ]
  },
  {
   "cell_type": "code",
   "execution_count": 113,
   "id": "7d3fa11f",
   "metadata": {},
   "outputs": [],
   "source": [
    "map_chain = load_summarize_chain(llm=llm3,\n",
    "                             chain_type=\"stuff\",\n",
    "                             prompt=map_prompt_template)"
   ]
  },
  {
   "cell_type": "code",
   "execution_count": 114,
   "id": "57684eb3",
   "metadata": {},
   "outputs": [],
   "source": [
    "selected_docs = [docs[doc] for doc in selected_indices]"
   ]
  },
  {
   "cell_type": "code",
   "execution_count": 122,
   "id": "a45a7eec",
   "metadata": {},
   "outputs": [
    {
     "name": "stdout",
     "output_type": "stream",
     "text": [
      "Summary #0 (chunk #0) - Preview: The case of Kesavananda Bharati v. State of Kerala is a well-known constitutional decision made by the Supreme Court of India. In this case, the court ruled that there is no implied limitation on the powers of Parliament to amend the Constitution. However, it also established the \"Basic Structure Doctrine,\" which states that no amendment can violate the basic structure of the Constitution. This de \n",
      "\n",
      "Summary #1 (chunk #2) - Preview: This passage discusses the highly contested issue of the scope and extent of Parliamentary power to modify the Constitution in India. The Golak Nath judgment, mentioned in the passage, was a Supreme Court decision that stated Parliament did not have the power to amend the fundamental rights under Part III of the Indian Constitution. This decision was met with criticism, with many considering it a  \n",
      "\n",
      "Summary #2 (chunk #4) - Preview: In this passage, it is mentioned that the Constitution (25th Amendment) Act, 1971 modified Article 31 of the Constitution, expanding the power of the Government to acquire private property. Additionally, the Constitution (26th Amendment) Act, 1971 nullified the decision of the Supreme Court in the Privy Purses case. These amendments were challenged before the Supreme Court, leading to a constituti \n",
      "\n",
      "Summary #3 (chunk #6) - Preview: In this passage, it is mentioned that the power of the Supreme Court to interpret the Constitution was limited, but it did not extend to altering or modifying the basic features or structure of the Constitution. During the pronouncement of the judgments in court, Chief Justice Sikri circulated a paper titled \"View by the Majority\" which included six propositions, one of which stated that Article 3 \n",
      "\n",
      "Summary #4 (chunk #7) - Preview: The passage discusses the political consequences of a controversial judgment and the attempt to reverse it. The judgment in question was related to the Constitution (25th Amendment) Act, which denied the possibility of judicial review. While the case was a success for the government in terms of limiting Parliament's ability to alter the basic structure, it was met with controversy.\n",
      "\n",
      "In response to \n",
      "\n",
      "Summary #5 (chunk #9) - Preview: In this passage, the focus is on the Constitution and its various elements. Justices Shelat and Grover emphasize the importance of individual dignity, as well as the unity and integrity of the nation, in establishing the basic elements of the Constitution. Justices Hegde and Mukherjea argue that while Parliament has the power to amend the Constitution, it does not have the power to destroy or weak \n",
      "\n",
      "Summary #6 (chunk #14) - Preview: In this passage, it is mentioned that the Supreme Court ruled on the question of whether an addition to the Ninth Schedule would make a listed statute immune from infringing on a fundamental right. The case of I. Coelho v State of Tamil Nadu is referenced, where the Supreme Court held that all laws are subject to the test of being consistent with fundamental rights, which are a part of the basic s \n",
      "\n",
      "Summary #7 (chunk #15) - Preview: In this passage, the author discusses the struggle for supremacy that occurred in 1973 in relation to the Indian Constitution. The Supreme Court faced a challenge from Kesavananda Bharati, who sought to limit Parliament's power to amend the Constitution and eliminate judicial review. While the court recognized Parliament's authority to institute socio-economic policies, it refused to recognize the \n",
      "\n"
     ]
    }
   ],
   "source": [
    "summary_list = []\n",
    "\n",
    "for i, doc in enumerate(selected_docs):\n",
    "    \n",
    "    chunk_summary = map_chain.run([doc])\n",
    "    \n",
    "    summary_list.append(chunk_summary)\n",
    "    \n",
    "    print (f\"Summary #{i} (chunk #{selected_indices[i]}) - Preview: {chunk_summary[:400]} \\n\")"
   ]
  },
  {
   "cell_type": "code",
   "execution_count": 123,
   "id": "a83863e9",
   "metadata": {},
   "outputs": [
    {
     "name": "stdout",
     "output_type": "stream",
     "text": [
      "Your total summary has 1950 tokens\n"
     ]
    }
   ],
   "source": [
    "summaries = \"\\n\".join(summary_list)\n",
    "\n",
    "summaries = Document(page_content=summaries)\n",
    "\n",
    "print (f\"Your total summary has {llm.get_num_tokens(summaries.page_content)} tokens\")"
   ]
  },
  {
   "cell_type": "code",
   "execution_count": 146,
   "id": "84eb3de6",
   "metadata": {},
   "outputs": [],
   "source": [
    "llm4 = ChatOpenAI(temperature=0,\n",
    "                 openai_api_key=\"api_key\",\n",
    "                 max_tokens=1000,\n",
    "                 model='gpt-3.5-turbo',\n",
    "                 request_timeout=120\n",
    "                )"
   ]
  },
  {
   "cell_type": "code",
   "execution_count": 147,
   "id": "4734ae1d",
   "metadata": {},
   "outputs": [],
   "source": [
    "combine_prompt = \"\"\"\n",
    "You will be given a series of summaries from a book. The summaries will be enclosed in triple backticks (```)\n",
    "Your goal is to give a verbose summary of what happened in the story.\n",
    "The reader should be able to grasp what happened in the book.\n",
    "\n",
    "```{text}```\n",
    "VERBOSE SUMMARY:\n",
    "\"\"\"\n",
    "combine_prompt_template = PromptTemplate(template=combine_prompt, input_variables=[\"text\"])"
   ]
  },
  {
   "cell_type": "code",
   "execution_count": 148,
   "id": "341b4322",
   "metadata": {},
   "outputs": [],
   "source": [
    "reduce_chain = load_summarize_chain(llm=llm4,\n",
    "                             chain_type=\"stuff\",\n",
    "                             prompt=combine_prompt_template,\n",
    "#                              verbose=True \n",
    "                                   )"
   ]
  },
  {
   "cell_type": "code",
   "execution_count": 150,
   "id": "7633a5bb",
   "metadata": {},
   "outputs": [],
   "source": [
    "output = reduce_chain.run([summaries])"
   ]
  },
  {
   "cell_type": "code",
   "execution_count": 151,
   "id": "b9557b80",
   "metadata": {},
   "outputs": [
    {
     "name": "stdout",
     "output_type": "stream",
     "text": [
      "The book discusses the landmark case of Kesavananda Bharati v. State of Kerala, which was a constitutional decision made by the Supreme Court of India. The court ruled that Parliament has the power to amend the Constitution, but also established the \"Basic Structure Doctrine,\" which states that no amendment can violate the basic structure of the Constitution. This decision solidified the Supreme Court's right of review and its supremacy on constitutional matters, playing a significant role in preserving India's parliamentary democracy.\n",
      "\n",
      "However, the case left certain important questions unanswered, leading to ongoing debates and discussions. One of the most crucial questions is what exactly constitutes the basic structure of the Constitution. This lack of clarity has resulted in subsequent cases and decisions that have attempted to define and interpret the basic structure. As time goes on, the implications of the Kesavananda Bharati case are becoming more apparent, and it is clear that its complexity and lack of clarity have left much to be decided by future generations.\n",
      "\n",
      "The book also discusses other related cases and amendments to the Constitution that further shaped the power of Parliament to amend the Constitution. These cases include the Golak Nath judgment, which stated that Parliament did not have the power to amend fundamental rights, and the R.C. Cooper v. Union of India case, which struck down the Bank Nationalization Act of 1969. These cases highlight the ongoing controversy surrounding the power of Parliament to amend the Constitution.\n",
      "\n",
      "The book delves into the specific amendments made to the Constitution in 1971, which expanded the government's authority to acquire private property and nullified a Supreme Court decision. These amendments faced legal challenges, setting the stage for a constitutional battle between Parliament's unrestricted power to amend the Constitution and the Constitutional restrictions against such power.\n",
      "\n",
      "The book also discusses the limited power of the Supreme Court to interpret the Constitution and the significance of the Kesavananda Bharati case in establishing the principle of the basic structure of the Constitution. It mentions the controversial move by Chief Justice Sikri to circulate a paper during the pronouncement of judgments and the dissenting opinions of some of the judges.\n",
      "\n",
      "Furthermore, the book explores the political consequences of the controversial judgment and the attempt to reverse it. It discusses the elevation of Justice A.N. Ray to the office of Chief Justice and the subsequent controversy surrounding the judiciary. It also mentions the attempt to review the Kesavananda Bharati case, which was ultimately dissolved by Chief Justice A.N. Ray.\n",
      "\n",
      "The book also delves into the various elements of the Constitution and the arguments made by different justices in the Kesavananda Bharati case. It highlights the importance of individual dignity, the unity and integrity of the nation, and the objectives of the Preamble in establishing the basic elements of the Constitution.\n",
      "\n",
      "Additionally, the book discusses the Supreme Court's ruling on the immunity of statutes listed in the Ninth Schedule from infringing on fundamental rights. It also touches on the ongoing debates and discussions surrounding the limits of a legislative body to amend a Constitution and the differing opinions on the values and principles that should form the basic structure of a Constitution.\n",
      "\n",
      "Overall, the book provides a comprehensive and detailed account of the Kesavananda Bharati case and its implications for the power of Parliament to amend the Constitution and the role of the Supreme Court in protecting the basic structure of the Constitution. It explores the ongoing debates and discussions surrounding these issues and sheds light on the complex and evolving nature of constitutional law in India.\n"
     ]
    }
   ],
   "source": [
    "print (output)"
   ]
  },
  {
   "cell_type": "code",
   "execution_count": null,
   "id": "7d6e3fa4",
   "metadata": {},
   "outputs": [],
   "source": []
  }
 ],
 "metadata": {
  "kernelspec": {
   "display_name": "Python 3 (ipykernel)",
   "language": "python",
   "name": "python3"
  },
  "language_info": {
   "codemirror_mode": {
    "name": "ipython",
    "version": 3
   },
   "file_extension": ".py",
   "mimetype": "text/x-python",
   "name": "python",
   "nbconvert_exporter": "python",
   "pygments_lexer": "ipython3",
   "version": "3.9.12"
  }
 },
 "nbformat": 4,
 "nbformat_minor": 5
}
